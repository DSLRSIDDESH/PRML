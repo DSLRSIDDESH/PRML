{
 "cells": [
  {
   "cell_type": "code",
   "execution_count": 238,
   "metadata": {},
   "outputs": [],
   "source": [
    "import numpy as np\n",
    "import pandas as pd\n",
    "import sympy as sp"
   ]
  },
  {
   "cell_type": "code",
   "execution_count": 239,
   "metadata": {},
   "outputs": [],
   "source": [
    "def accuracy(y_test, y_pred):\n",
    "    return np.sum(y_test == y_pred) / len(y_test)"
   ]
  },
  {
   "cell_type": "code",
   "execution_count": 240,
   "metadata": {},
   "outputs": [],
   "source": [
    "def covariance_matrix(data, mean_vector):\n",
    "        z_matrix = data - mean_vector\n",
    "        cov_matrix = np.dot(z_matrix.T, z_matrix) / (data.shape[0] - 1)\n",
    "        return cov_matrix"
   ]
  },
  {
   "cell_type": "code",
   "execution_count": 241,
   "metadata": {},
   "outputs": [],
   "source": [
    "def euclidean_distance(p1, p2):\n",
    "    p1 = np.array(p1)\n",
    "    p2 = np.array(p2)\n",
    "    return np.sqrt(np.sum((p1 - p2)**2))"
   ]
  },
  {
   "cell_type": "markdown",
   "metadata": {},
   "source": [
    "## Classes and Functions"
   ]
  },
  {
   "cell_type": "markdown",
   "metadata": {},
   "source": [
    "### PCA"
   ]
  },
  {
   "cell_type": "code",
   "execution_count": 242,
   "metadata": {},
   "outputs": [],
   "source": [
    "class PCA:\n",
    "    def __init__(self, cumvar_threshold=0.95):\n",
    "        self.cumvar_threshold = cumvar_threshold\n",
    "        self.components = None\n",
    "        self.explained_variance = None\n",
    "        self.explained_variance_ratio = None\n",
    "        self.cumulative_variance_ratio = None\n",
    "        self.n_components = None\n",
    "        \n",
    "    def fit(self, X):\n",
    "        mean_vector = np.mean(X, axis=0)\n",
    "        cov = covariance_matrix(X, mean_vector)\n",
    "        eigenvalues, eigenvectors = np.linalg.eig(cov)\n",
    "        idx = eigenvalues.argsort()[::-1]\n",
    "        eigenvalues = eigenvalues[idx]\n",
    "        eigenvectors = eigenvectors[:, idx]\n",
    "        self.explained_variance = eigenvalues\n",
    "        self.explained_variance_ratio = eigenvalues / eigenvalues.sum()\n",
    "        self.cumulative_variance_ratio = np.cumsum(self.explained_variance_ratio)\n",
    "        self.n_components = np.argmax(self.cumulative_variance_ratio >= self.cumvar_threshold) + 1\n",
    "        self.components = eigenvectors[:, :self.n_components]\n",
    "    \n",
    "    def transform(self, X):\n",
    "        return np.dot(X, self.components)"
   ]
  },
  {
   "cell_type": "markdown",
   "metadata": {},
   "source": [
    "### KNN Classifier"
   ]
  },
  {
   "cell_type": "code",
   "execution_count": 243,
   "metadata": {},
   "outputs": [],
   "source": [
    "class KNN():\n",
    "    def __init__(self, k):\n",
    "        self.k = k\n",
    "    \n",
    "    def fit(self, X_train, y_train):\n",
    "        self.X_train = X_train\n",
    "        self.y_train = y_train\n",
    "    \n",
    "    def knn(self, test_point):\n",
    "        distances = []\n",
    "        for i in range(self.X_train.shape[0]):\n",
    "            train_point = self.X_train[i, :]\n",
    "            dist = euclidean_distance(test_point, train_point)\n",
    "            distances.append((dist, self.y_train[i]))\n",
    "        distances.sort()\n",
    "        return distances[:self.k]\n",
    "    \n",
    "    def predict(self, X_test):\n",
    "        y_pred = []\n",
    "        for i in range(X_test.shape[0]):\n",
    "            test_point = X_test[i, :]\n",
    "            k_nearest_neighbours = self.knn(test_point)\n",
    "            nearest_labels = pd.DataFrame([label for _,label in k_nearest_neighbours])\n",
    "            y_pred.append(nearest_labels.mode()[0][0])\n",
    "        return np.array(y_pred)"
   ]
  },
  {
   "cell_type": "markdown",
   "metadata": {},
   "source": [
    "### Load Data"
   ]
  },
  {
   "cell_type": "code",
   "execution_count": 244,
   "metadata": {},
   "outputs": [],
   "source": [
    "dataset = pd.read_csv(\"face.csv\")"
   ]
  },
  {
   "cell_type": "markdown",
   "metadata": {},
   "source": [
    "### Train Test Split"
   ]
  },
  {
   "cell_type": "code",
   "execution_count": 245,
   "metadata": {},
   "outputs": [],
   "source": [
    "def train_test_split(dataset):\n",
    "    classes = dataset.iloc[:, -1].unique()\n",
    "    test, train = pd.DataFrame(), pd.DataFrame()\n",
    "    for c in classes:\n",
    "        class_data = dataset[dataset.iloc[:, -1] == c]\n",
    "        test = pd.concat([test, class_data.iloc[:2]], ignore_index=True)\n",
    "        train = pd.concat([train, class_data.iloc[2:]], ignore_index=True)\n",
    "    X_train, X_test = train.iloc[:, :-1].values, test.iloc[:, :-1].values\n",
    "    y_train, y_test = train.iloc[:, -1].values, test.iloc[:, -1].values\n",
    "    return X_train, X_test, y_train, y_test"
   ]
  },
  {
   "cell_type": "code",
   "execution_count": 246,
   "metadata": {},
   "outputs": [],
   "source": [
    "X_train, X_test, y_train, y_test = train_test_split(dataset)"
   ]
  },
  {
   "cell_type": "markdown",
   "metadata": {},
   "source": [
    "### Principal Component Analysis"
   ]
  },
  {
   "cell_type": "code",
   "execution_count": 247,
   "metadata": {},
   "outputs": [],
   "source": [
    "pca = PCA()\n",
    "pca.fit(X_train)"
   ]
  },
  {
   "cell_type": "code",
   "execution_count": 248,
   "metadata": {},
   "outputs": [],
   "source": [
    "X_train_pca = pca.transform(X_train)\n",
    "X_test_pca = pca.transform(X_test)"
   ]
  },
  {
   "cell_type": "markdown",
   "metadata": {},
   "source": [
    "### KNN Classifier and Accuracy"
   ]
  },
  {
   "cell_type": "code",
   "execution_count": 249,
   "metadata": {},
   "outputs": [],
   "source": [
    "knn = KNN(5)\n",
    "knn.fit(X_train_pca, y_train.reshape(-1, 1))"
   ]
  },
  {
   "cell_type": "code",
   "execution_count": 250,
   "metadata": {},
   "outputs": [],
   "source": [
    "y_pred = knn.predict(X_test_pca)"
   ]
  },
  {
   "cell_type": "code",
   "execution_count": 251,
   "metadata": {},
   "outputs": [
    {
     "name": "stdout",
     "output_type": "stream",
     "text": [
      "    Actual  Predicted\n",
      "0        0          0\n",
      "1        0          0\n",
      "2        1          1\n",
      "3        1          1\n",
      "4        2         39\n",
      "..     ...        ...\n",
      "75      37         37\n",
      "76      38         38\n",
      "77      38         38\n",
      "78      39         39\n",
      "79      39          4\n",
      "\n",
      "[80 rows x 2 columns]\n"
     ]
    }
   ],
   "source": [
    "final_df = pd.DataFrame({'Actual': y_test, 'Predicted': y_pred})\n",
    "print(final_df)"
   ]
  },
  {
   "cell_type": "code",
   "execution_count": 252,
   "metadata": {},
   "outputs": [
    {
     "name": "stdout",
     "output_type": "stream",
     "text": [
      "Accuracy: 86.25 %\n"
     ]
    }
   ],
   "source": [
    "print(\"Accuracy:\", accuracy(y_test, y_pred) * 100, \"%\")"
   ]
  }
 ],
 "metadata": {
  "kernelspec": {
   "display_name": "Python 3",
   "language": "python",
   "name": "python3"
  },
  "language_info": {
   "codemirror_mode": {
    "name": "ipython",
    "version": 3
   },
   "file_extension": ".py",
   "mimetype": "text/x-python",
   "name": "python",
   "nbconvert_exporter": "python",
   "pygments_lexer": "ipython3",
   "version": "3.11.4"
  }
 },
 "nbformat": 4,
 "nbformat_minor": 2
}
