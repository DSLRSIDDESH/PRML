{
 "cells": [
  {
   "cell_type": "markdown",
   "metadata": {},
   "source": [
    "### Import Libraries"
   ]
  },
  {
   "cell_type": "code",
   "execution_count": 1,
   "metadata": {},
   "outputs": [],
   "source": [
    "import numpy as np\n",
    "import pandas as pd\n",
    "import matplotlib.pyplot as plt"
   ]
  },
  {
   "cell_type": "markdown",
   "metadata": {},
   "source": [
    "### Data"
   ]
  },
  {
   "cell_type": "code",
   "execution_count": 2,
   "metadata": {},
   "outputs": [],
   "source": [
    "data = pd.DataFrame({\n",
    "    'HoursStudied': [2, 3, 4, 5, 6, 7],\n",
    "    'HoursWatchingTV': [4, 3, 2, 1, 0, 0],\n",
    "    'OutdoorActivityTime': [2, 4, 6, 8, 10, 12],\n",
    "    'HoursListeningToMusic': [2, 3, 4, 1, 5, 0],\n",
    "    'WaterConsumed': [5, 6, 5, 6, 4, 5],\n",
    "    'TestScore': [65, 70, 75, 80, 85, 90]\n",
    "})"
   ]
  },
  {
   "cell_type": "code",
   "execution_count": 3,
   "metadata": {},
   "outputs": [
    {
     "data": {
      "text/html": [
       "<div>\n",
       "<style scoped>\n",
       "    .dataframe tbody tr th:only-of-type {\n",
       "        vertical-align: middle;\n",
       "    }\n",
       "\n",
       "    .dataframe tbody tr th {\n",
       "        vertical-align: top;\n",
       "    }\n",
       "\n",
       "    .dataframe thead th {\n",
       "        text-align: right;\n",
       "    }\n",
       "</style>\n",
       "<table border=\"1\" class=\"dataframe\">\n",
       "  <thead>\n",
       "    <tr style=\"text-align: right;\">\n",
       "      <th></th>\n",
       "      <th>HoursStudied</th>\n",
       "      <th>HoursWatchingTV</th>\n",
       "      <th>OutdoorActivityTime</th>\n",
       "      <th>HoursListeningToMusic</th>\n",
       "      <th>WaterConsumed</th>\n",
       "      <th>TestScore</th>\n",
       "    </tr>\n",
       "  </thead>\n",
       "  <tbody>\n",
       "    <tr>\n",
       "      <th>0</th>\n",
       "      <td>2</td>\n",
       "      <td>4</td>\n",
       "      <td>2</td>\n",
       "      <td>2</td>\n",
       "      <td>5</td>\n",
       "      <td>65</td>\n",
       "    </tr>\n",
       "    <tr>\n",
       "      <th>1</th>\n",
       "      <td>3</td>\n",
       "      <td>3</td>\n",
       "      <td>4</td>\n",
       "      <td>3</td>\n",
       "      <td>6</td>\n",
       "      <td>70</td>\n",
       "    </tr>\n",
       "    <tr>\n",
       "      <th>2</th>\n",
       "      <td>4</td>\n",
       "      <td>2</td>\n",
       "      <td>6</td>\n",
       "      <td>4</td>\n",
       "      <td>5</td>\n",
       "      <td>75</td>\n",
       "    </tr>\n",
       "    <tr>\n",
       "      <th>3</th>\n",
       "      <td>5</td>\n",
       "      <td>1</td>\n",
       "      <td>8</td>\n",
       "      <td>1</td>\n",
       "      <td>6</td>\n",
       "      <td>80</td>\n",
       "    </tr>\n",
       "    <tr>\n",
       "      <th>4</th>\n",
       "      <td>6</td>\n",
       "      <td>0</td>\n",
       "      <td>10</td>\n",
       "      <td>5</td>\n",
       "      <td>4</td>\n",
       "      <td>85</td>\n",
       "    </tr>\n",
       "    <tr>\n",
       "      <th>5</th>\n",
       "      <td>7</td>\n",
       "      <td>0</td>\n",
       "      <td>12</td>\n",
       "      <td>0</td>\n",
       "      <td>5</td>\n",
       "      <td>90</td>\n",
       "    </tr>\n",
       "  </tbody>\n",
       "</table>\n",
       "</div>"
      ],
      "text/plain": [
       "   HoursStudied  HoursWatchingTV  OutdoorActivityTime  HoursListeningToMusic  \\\n",
       "0             2                4                    2                      2   \n",
       "1             3                3                    4                      3   \n",
       "2             4                2                    6                      4   \n",
       "3             5                1                    8                      1   \n",
       "4             6                0                   10                      5   \n",
       "5             7                0                   12                      0   \n",
       "\n",
       "   WaterConsumed  TestScore  \n",
       "0              5         65  \n",
       "1              6         70  \n",
       "2              5         75  \n",
       "3              6         80  \n",
       "4              4         85  \n",
       "5              5         90  "
      ]
     },
     "execution_count": 3,
     "metadata": {},
     "output_type": "execute_result"
    }
   ],
   "source": [
    "data"
   ]
  },
  {
   "cell_type": "markdown",
   "metadata": {},
   "source": [
    "### Correlation"
   ]
  },
  {
   "cell_type": "code",
   "execution_count": 4,
   "metadata": {},
   "outputs": [],
   "source": [
    "def correlation(features, col_a, col_b):\n",
    "    x, y = features[col_a], features[col_b]\n",
    "    x_mean, y_mean = np.mean(x), np.mean(y)\n",
    "    x_std, y_std = np.std(x), np.std(y)\n",
    "    return round(np.sum((x - x_mean) * (y - y_mean)) / (len(x) * x_std * y_std),3)"
   ]
  },
  {
   "cell_type": "code",
   "execution_count": 5,
   "metadata": {},
   "outputs": [
    {
     "data": {
      "text/html": [
       "<div>\n",
       "<style scoped>\n",
       "    .dataframe tbody tr th:only-of-type {\n",
       "        vertical-align: middle;\n",
       "    }\n",
       "\n",
       "    .dataframe tbody tr th {\n",
       "        vertical-align: top;\n",
       "    }\n",
       "\n",
       "    .dataframe thead th {\n",
       "        text-align: right;\n",
       "    }\n",
       "</style>\n",
       "<table border=\"1\" class=\"dataframe\">\n",
       "  <thead>\n",
       "    <tr style=\"text-align: right;\">\n",
       "      <th></th>\n",
       "      <th>HoursStudied</th>\n",
       "      <th>HoursWatchingTV</th>\n",
       "      <th>OutdoorActivityTime</th>\n",
       "      <th>HoursListeningToMusic</th>\n",
       "      <th>WaterConsumed</th>\n",
       "    </tr>\n",
       "  </thead>\n",
       "  <tbody>\n",
       "    <tr>\n",
       "      <th>TestScore</th>\n",
       "      <td>1.0</td>\n",
       "      <td>-0.982</td>\n",
       "      <td>1.0</td>\n",
       "      <td>-0.2</td>\n",
       "      <td>-0.355</td>\n",
       "    </tr>\n",
       "  </tbody>\n",
       "</table>\n",
       "</div>"
      ],
      "text/plain": [
       "           HoursStudied  HoursWatchingTV  OutdoorActivityTime  \\\n",
       "TestScore           1.0           -0.982                  1.0   \n",
       "\n",
       "           HoursListeningToMusic  WaterConsumed  \n",
       "TestScore                   -0.2         -0.355  "
      ]
     },
     "execution_count": 5,
     "metadata": {},
     "output_type": "execute_result"
    }
   ],
   "source": [
    "other_cols = data.columns[:-1]\n",
    "corr = []\n",
    "for col in other_cols:\n",
    "    corr.append(correlation(data, col, 'TestScore'))\n",
    "corr = np.array(corr).reshape(1, 5)\n",
    "corr = pd.DataFrame(corr, columns = other_cols, index = ['TestScore'])\n",
    "corr"
   ]
  },
  {
   "cell_type": "code",
   "execution_count": 6,
   "metadata": {},
   "outputs": [
    {
     "name": "stdout",
     "output_type": "stream",
     "text": [
      "Positive Correlation :\n",
      "\n",
      "HoursStudied - Test Score : 1.0\n",
      "OutdoorActivityTime - Test Score : 1.0\n",
      "\n",
      "Negative Correlation :\n",
      "\n",
      "HoursWatchingTV - Test Score : -0.982\n",
      "\n",
      "No Significant Correlation :\n",
      "\n",
      "HoursListeningToMusic - Test Score : -0.2\n",
      "WaterConsumed - Test Score : -0.355\n"
     ]
    }
   ],
   "source": [
    "positive_corr = []\n",
    "negative_corr = []\n",
    "no_sign_corr = []\n",
    "for i in range(corr.shape[1]):\n",
    "    if corr.iloc[0, i] > 0.5:\n",
    "        positive_corr.append(corr.columns[i] + ' - Test Score' + ' : ' + str(corr.iloc[0, i]))\n",
    "    elif corr.iloc[0, i] < -0.5:\n",
    "        negative_corr.append(corr.columns[i] + ' - Test Score' + ' : ' + str(corr.iloc[0, i]))\n",
    "    else:\n",
    "        no_sign_corr.append(corr.columns[i] + ' - Test Score' + ' : ' + str(corr.iloc[0, i]))\n",
    "\n",
    "print(\"Positive Correlation :\\n\",*positive_corr, sep='\\n', end='\\n\\n')\n",
    "print(\"Negative Correlation :\\n\",*negative_corr, sep='\\n', end='\\n\\n')\n",
    "print(\"No Significant Correlation :\\n\",*no_sign_corr, sep='\\n')"
   ]
  },
  {
   "cell_type": "markdown",
   "metadata": {},
   "source": [
    "<h3>Positive Correlation</h3>\n",
    "\n",
    "Hours Studied (+1): The direct link between studying and developing a greater comprehension of the subject matter can be the cause of the positive correlation between study time and test results. Spending more time studying helps people learn topics thoroughly, practise problem-solving, and become more familiar with the content, all of which improve test performance.\n",
    "\n",
    "Outdoor Activity (+1): The association between test scores and outdoor activity is positive, indicating that outdoor activity may help students do better in school. Exercise is proven to have positive effects on cognitive performance, emotional regulation, and general wellbeing, all of which can improve focus and academic results.\n",
    "\n",
    "<h3>Negative Correlation</h3>\n",
    "\n",
    "Television viewing time (-0.982): The significant inverse relationship between the amount of time spent watching TV and test scores highlights the potential time and attention losses associated with excessive television viewing when compared to studying and other productive activities. This emphasises how crucial it is to prioritise learning and studying while effectively managing your time and avoiding distractions.\n",
    "\n",
    "<h3>No significant correlation</h3>\n",
    "\n",
    "Hours listening to music (-0.2): The moderately favourable connection between the time spent listening to music and test scores (while not statistically significant) suggests that music may have a small positive influence on focus and relaxation during study sessions. Finding a balance that suits one's learning preferences and concentrate requirements is crucial, but it's important to note that individual preferences for studying settings might differ greatly.\n",
    "\n",
    "Water Consumed (0.355): The moderately favourable association between the amount of water consumed and test results (while not statistically significant) raises the possibility that maintaining sufficient hydration may have a beneficial effect on cognitive performance. It's crucial to stay hydrated to prevent focus problems, weariness, and a loss of mental alertness, all of which can negatively impact exam performance.\n",
    "\n",
    "These connections shed light on the complex relationships between several variables and academic achievement, emphasising the importance of efficient study techniques, conscientious time management, and general wellbeing."
   ]
  }
 ],
 "metadata": {
  "kernelspec": {
   "display_name": "base",
   "language": "python",
   "name": "python3"
  },
  "language_info": {
   "codemirror_mode": {
    "name": "ipython",
    "version": 3
   },
   "file_extension": ".py",
   "mimetype": "text/x-python",
   "name": "python",
   "nbconvert_exporter": "python",
   "pygments_lexer": "ipython3",
   "version": "3.9.12"
  },
  "orig_nbformat": 4
 },
 "nbformat": 4,
 "nbformat_minor": 2
}
