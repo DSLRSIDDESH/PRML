{
 "cells": [
  {
   "cell_type": "markdown",
   "metadata": {},
   "source": [
    "### Import Libraries"
   ]
  },
  {
   "cell_type": "code",
   "execution_count": 26,
   "metadata": {},
   "outputs": [],
   "source": [
    "import numpy as np\n",
    "import pandas as pd\n",
    "import matplotlib.pyplot as plt"
   ]
  },
  {
   "cell_type": "markdown",
   "metadata": {},
   "source": [
    "### Data"
   ]
  },
  {
   "cell_type": "code",
   "execution_count": 27,
   "metadata": {},
   "outputs": [],
   "source": [
    "data = pd.DataFrame({\n",
    "    'HoursStudied': [2, 3, 4, 5, 6, 7],\n",
    "    'HoursWatchingTV': [4, 3, 2, 1, 0, 0],\n",
    "    'OutdoorActivityTime': [2, 4, 6, 8, 10, 12],\n",
    "    'HoursListeningToMusic': [2, 3, 4, 1, 5, 0],\n",
    "    'WaterConsumed': [5, 6, 5, 6, 4, 5],\n",
    "    'TestScore': [65, 70, 75, 80, 85, 90]\n",
    "})"
   ]
  },
  {
   "cell_type": "code",
   "execution_count": 28,
   "metadata": {},
   "outputs": [
    {
     "data": {
      "text/html": [
       "<div>\n",
       "<style scoped>\n",
       "    .dataframe tbody tr th:only-of-type {\n",
       "        vertical-align: middle;\n",
       "    }\n",
       "\n",
       "    .dataframe tbody tr th {\n",
       "        vertical-align: top;\n",
       "    }\n",
       "\n",
       "    .dataframe thead th {\n",
       "        text-align: right;\n",
       "    }\n",
       "</style>\n",
       "<table border=\"1\" class=\"dataframe\">\n",
       "  <thead>\n",
       "    <tr style=\"text-align: right;\">\n",
       "      <th></th>\n",
       "      <th>HoursStudied</th>\n",
       "      <th>HoursWatchingTV</th>\n",
       "      <th>OutdoorActivityTime</th>\n",
       "      <th>HoursListeningToMusic</th>\n",
       "      <th>WaterConsumed</th>\n",
       "      <th>TestScore</th>\n",
       "    </tr>\n",
       "  </thead>\n",
       "  <tbody>\n",
       "    <tr>\n",
       "      <th>0</th>\n",
       "      <td>2</td>\n",
       "      <td>4</td>\n",
       "      <td>2</td>\n",
       "      <td>2</td>\n",
       "      <td>5</td>\n",
       "      <td>65</td>\n",
       "    </tr>\n",
       "    <tr>\n",
       "      <th>1</th>\n",
       "      <td>3</td>\n",
       "      <td>3</td>\n",
       "      <td>4</td>\n",
       "      <td>3</td>\n",
       "      <td>6</td>\n",
       "      <td>70</td>\n",
       "    </tr>\n",
       "    <tr>\n",
       "      <th>2</th>\n",
       "      <td>4</td>\n",
       "      <td>2</td>\n",
       "      <td>6</td>\n",
       "      <td>4</td>\n",
       "      <td>5</td>\n",
       "      <td>75</td>\n",
       "    </tr>\n",
       "    <tr>\n",
       "      <th>3</th>\n",
       "      <td>5</td>\n",
       "      <td>1</td>\n",
       "      <td>8</td>\n",
       "      <td>1</td>\n",
       "      <td>6</td>\n",
       "      <td>80</td>\n",
       "    </tr>\n",
       "    <tr>\n",
       "      <th>4</th>\n",
       "      <td>6</td>\n",
       "      <td>0</td>\n",
       "      <td>10</td>\n",
       "      <td>5</td>\n",
       "      <td>4</td>\n",
       "      <td>85</td>\n",
       "    </tr>\n",
       "    <tr>\n",
       "      <th>5</th>\n",
       "      <td>7</td>\n",
       "      <td>0</td>\n",
       "      <td>12</td>\n",
       "      <td>0</td>\n",
       "      <td>5</td>\n",
       "      <td>90</td>\n",
       "    </tr>\n",
       "  </tbody>\n",
       "</table>\n",
       "</div>"
      ],
      "text/plain": [
       "   HoursStudied  HoursWatchingTV  OutdoorActivityTime  HoursListeningToMusic  \\\n",
       "0             2                4                    2                      2   \n",
       "1             3                3                    4                      3   \n",
       "2             4                2                    6                      4   \n",
       "3             5                1                    8                      1   \n",
       "4             6                0                   10                      5   \n",
       "5             7                0                   12                      0   \n",
       "\n",
       "   WaterConsumed  TestScore  \n",
       "0              5         65  \n",
       "1              6         70  \n",
       "2              5         75  \n",
       "3              6         80  \n",
       "4              4         85  \n",
       "5              5         90  "
      ]
     },
     "execution_count": 28,
     "metadata": {},
     "output_type": "execute_result"
    }
   ],
   "source": [
    "data"
   ]
  },
  {
   "cell_type": "markdown",
   "metadata": {},
   "source": [
    "### Correlation"
   ]
  },
  {
   "cell_type": "code",
   "execution_count": 29,
   "metadata": {},
   "outputs": [],
   "source": [
    "def correlation(features, col_a, col_b):\n",
    "    x, y = features[col_a], features[col_b]\n",
    "    x_mean, y_mean = np.mean(x), np.mean(y)\n",
    "    x_std, y_std = np.std(x), np.std(y)\n",
    "    return round(np.sum((x - x_mean) * (y - y_mean)) / (len(x) * x_std * y_std),3)"
   ]
  },
  {
   "cell_type": "code",
   "execution_count": 30,
   "metadata": {},
   "outputs": [
    {
     "data": {
      "text/html": [
       "<div>\n",
       "<style scoped>\n",
       "    .dataframe tbody tr th:only-of-type {\n",
       "        vertical-align: middle;\n",
       "    }\n",
       "\n",
       "    .dataframe tbody tr th {\n",
       "        vertical-align: top;\n",
       "    }\n",
       "\n",
       "    .dataframe thead th {\n",
       "        text-align: right;\n",
       "    }\n",
       "</style>\n",
       "<table border=\"1\" class=\"dataframe\">\n",
       "  <thead>\n",
       "    <tr style=\"text-align: right;\">\n",
       "      <th></th>\n",
       "      <th>HoursStudied</th>\n",
       "      <th>HoursWatchingTV</th>\n",
       "      <th>OutdoorActivityTime</th>\n",
       "      <th>HoursListeningToMusic</th>\n",
       "      <th>WaterConsumed</th>\n",
       "    </tr>\n",
       "  </thead>\n",
       "  <tbody>\n",
       "    <tr>\n",
       "      <th>TestScore</th>\n",
       "      <td>1.0</td>\n",
       "      <td>-0.982</td>\n",
       "      <td>1.0</td>\n",
       "      <td>-0.2</td>\n",
       "      <td>-0.355</td>\n",
       "    </tr>\n",
       "  </tbody>\n",
       "</table>\n",
       "</div>"
      ],
      "text/plain": [
       "           HoursStudied  HoursWatchingTV  OutdoorActivityTime  \\\n",
       "TestScore           1.0           -0.982                  1.0   \n",
       "\n",
       "           HoursListeningToMusic  WaterConsumed  \n",
       "TestScore                   -0.2         -0.355  "
      ]
     },
     "execution_count": 30,
     "metadata": {},
     "output_type": "execute_result"
    }
   ],
   "source": [
    "other_cols = data.columns[:-1]\n",
    "corr = []\n",
    "for col in other_cols:\n",
    "    corr.append(correlation(data, col, 'TestScore'))\n",
    "corr = np.array(corr).reshape(1, 5)\n",
    "corr = pd.DataFrame(corr, columns = other_cols, index = ['TestScore'])\n",
    "corr"
   ]
  },
  {
   "cell_type": "code",
   "execution_count": 53,
   "metadata": {},
   "outputs": [
    {
     "name": "stdout",
     "output_type": "stream",
     "text": [
      "HoursStudied - Positive Correlation\n",
      "OutdoorActivityTime - Positive Correlation\n",
      "\n",
      "HoursWatchingTV - Negative Correlation\n",
      "\n",
      "HoursListeningToMusic - No Significant Correlation\n",
      "WaterConsumed - No Significant Correlation\n"
     ]
    }
   ],
   "source": [
    "positive_corr = []\n",
    "negative_corr = []\n",
    "no_sign_corr = []\n",
    "for i in range(corr.shape[1]):\n",
    "    if corr.iloc[0, i] > 0.5:\n",
    "        positive_corr.append(corr.columns[i] + ' - Positive Correlation')\n",
    "    elif corr.iloc[0, i] < -0.5:\n",
    "        negative_corr.append(corr.columns[i] + ' - Negative Correlation')\n",
    "    else:\n",
    "        no_sign_corr.append(corr.columns[i] + ' - No Significant Correlation')\n",
    "    \n",
    "print(*positive_corr, sep='\\n', end='\\n\\n')\n",
    "print(*negative_corr, sep='\\n', end='\\n\\n')\n",
    "print(*no_sign_corr, sep='\\n')"
   ]
  },
  {
   "cell_type": "code",
   "execution_count": null,
   "metadata": {},
   "outputs": [],
   "source": []
  }
 ],
 "metadata": {
  "kernelspec": {
   "display_name": "base",
   "language": "python",
   "name": "python3"
  },
  "language_info": {
   "codemirror_mode": {
    "name": "ipython",
    "version": 3
   },
   "file_extension": ".py",
   "mimetype": "text/x-python",
   "name": "python",
   "nbconvert_exporter": "python",
   "pygments_lexer": "ipython3",
   "version": "3.9.12"
  },
  "orig_nbformat": 4
 },
 "nbformat": 4,
 "nbformat_minor": 2
}
