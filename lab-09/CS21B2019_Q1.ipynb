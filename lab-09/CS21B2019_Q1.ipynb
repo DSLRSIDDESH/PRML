{
 "cells": [
  {
   "cell_type": "markdown",
   "metadata": {},
   "source": [
    "### Import Libraries"
   ]
  },
  {
   "cell_type": "code",
   "execution_count": 1,
   "metadata": {},
   "outputs": [],
   "source": [
    "import numpy as np\n",
    "import pandas as pd\n",
    "from sympy import Matrix"
   ]
  },
  {
   "cell_type": "markdown",
   "metadata": {},
   "source": [
    "### Required Functions"
   ]
  },
  {
   "cell_type": "code",
   "execution_count": 2,
   "metadata": {},
   "outputs": [],
   "source": [
    "def accuracy(y_test, y_pred):\n",
    "    return np.sum(y_test == y_pred) / len(y_test)"
   ]
  },
  {
   "cell_type": "code",
   "execution_count": 3,
   "metadata": {},
   "outputs": [],
   "source": [
    "def euclidean_distance(p1, p2):\n",
    "    p1 = np.array(p1)\n",
    "    p2 = np.array(p2)\n",
    "    return np.sqrt(np.sum((p1 - p2)**2))"
   ]
  },
  {
   "cell_type": "markdown",
   "metadata": {},
   "source": [
    "### Class LDA"
   ]
  },
  {
   "cell_type": "code",
   "execution_count": 4,
   "metadata": {},
   "outputs": [],
   "source": [
    "class LDA():\n",
    "    def __init__(self, n_components = 0):\n",
    "        self.n_components = n_components\n",
    "        self.sw = None\n",
    "        self.sb = None\n",
    "        self.classes = None\n",
    "\n",
    "    def mean_vector(self, x):\n",
    "        return np.mean(x, axis=0)\n",
    "\n",
    "    def fit(self, X_train: pd.DataFrame, y_train: pd.DataFrame):\n",
    "        classes = np.unique(y_train)\n",
    "        self.wc_scatter_matrices = []\n",
    "        self.mean_vectors = []\n",
    "\n",
    "        # Calculating mean vectors for each class\n",
    "        for c in classes:\n",
    "            class_data_set = X_train[y_train == c]\n",
    "            m_v = self.mean_vector(class_data_set)\n",
    "            self.mean_vectors.append(m_v)\n",
    "        \n",
    "        # Calculating within class scatter matrices\n",
    "        self.sw = np.zeros((X_train.shape[1], X_train.shape[1]))\n",
    "        for i in range(len(X_train)):\n",
    "            row = X_train[i].reshape(X_train.shape[1], 1)\n",
    "            m = self.mean_vector(X_train[y_train == y_train[i]])\n",
    "            self.sw += np.dot((row - m), (row - m).T)\n",
    "\n",
    "        # Calculating between class scatter matrices\n",
    "        self.sb = np.zeros((X_train.shape[1], X_train.shape[1]))\n",
    "        m_v = self.mean_vector(X_train)\n",
    "        for i in range(len(X_train)):\n",
    "            row = X_train[i].reshape(X_train.shape[1], 1)\n",
    "            m_i = self.mean_vector(X_train[y_train == y_train[i]])\n",
    "            N_i = len(X_train[y_train == y_train[i]])\n",
    "            self.sb += N_i * np.dot((m_i - m), (m_i - m).T)\n",
    "        \n",
    "        # Calculating linear discriminants\n",
    "        self.linear_discriminants = np.dot(np.linalg.inv(self.sw), self.sb)\n",
    "        self.eigen_values, self.eigen_vectors = np.linalg.eig(self.linear_discriminants)\n",
    "        self.eig_pairs = [(np.abs(self.eigen_values[i]), self.eigen_vectors[:,i]) for i in range(len(self.eigen_values))]\n",
    "        self.eig_pairs = sorted(self.eig_pairs, key=lambda k: k[0], reverse=True)\n",
    "\n",
    "        self.selected_eigen_vectors = []\n",
    "        for i in range(self.n_components):\n",
    "            self.selected_eigen_vectors.append(self.eig_pairs[i][1].reshape(X_train.shape[1],1))\n",
    "        self.final_matrix = np.hstack(self.selected_eigen_vectors)\n",
    "    \n",
    "    def transform(self, X_train):\n",
    "        return np.dot(X_train, self.final_matrix)"
   ]
  },
  {
   "cell_type": "markdown",
   "metadata": {},
   "source": [
    "### Class KNN Classifier"
   ]
  },
  {
   "cell_type": "code",
   "execution_count": 5,
   "metadata": {},
   "outputs": [],
   "source": [
    "class KNN():\n",
    "    def __init__(self, k):\n",
    "        self.k = k\n",
    "    \n",
    "    def fit(self, X_train, y_train):\n",
    "        self.X_train = X_train\n",
    "        self.y_train = y_train\n",
    "    \n",
    "    def knn(self, test_point):\n",
    "        distances = []\n",
    "        for i in range(self.X_train.shape[0]):\n",
    "            train_point = self.X_train[i, :]\n",
    "            dist = euclidean_distance(test_point, train_point)\n",
    "            distances.append((dist, self.y_train[i]))\n",
    "        distances.sort()\n",
    "        return distances[:self.k]\n",
    "    \n",
    "    def predict(self, X_test):\n",
    "        y_pred = []\n",
    "        for i in range(X_test.shape[0]):\n",
    "            test_point = X_test[i, :]\n",
    "            k_nearest_neighbours = self.knn(test_point)\n",
    "            nearest_labels = pd.DataFrame([label for _,label in k_nearest_neighbours])\n",
    "            y_pred.append(nearest_labels.mode()[0][0])\n",
    "        return np.array(y_pred)"
   ]
  },
  {
   "cell_type": "markdown",
   "metadata": {},
   "source": [
    "### Load Data"
   ]
  },
  {
   "cell_type": "code",
   "execution_count": 6,
   "metadata": {},
   "outputs": [],
   "source": [
    "data = pd.read_csv(\"gender.csv\")\n",
    "data.drop(['Unnamed: 0'], axis=1, inplace=True)\n",
    "data.rename(columns = {'Unnamed: 1': 'class'}, inplace = True)"
   ]
  },
  {
   "cell_type": "markdown",
   "metadata": {},
   "source": [
    "### Train Test Split"
   ]
  },
  {
   "cell_type": "code",
   "execution_count": 8,
   "metadata": {},
   "outputs": [],
   "source": [
    "def train_test_split(dataset):\n",
    "    classes = dataset['class'].unique()\n",
    "    test, train = pd.DataFrame(), pd.DataFrame()\n",
    "    for c in classes:\n",
    "        class_data = dataset[dataset['class'] == c]\n",
    "        test = pd.concat([test, class_data.iloc[:10]], ignore_index=True)\n",
    "        train = pd.concat([train, class_data.iloc[10:]], ignore_index=True)\n",
    "    X_train, X_test = train.iloc[:, 1:].values, test.iloc[:, 1:].values\n",
    "    y_train, y_test = train.iloc[:, 0].values, test.iloc[:, 0].values\n",
    "    return X_train, X_test, y_train, y_test"
   ]
  },
  {
   "cell_type": "code",
   "execution_count": 9,
   "metadata": {},
   "outputs": [],
   "source": [
    "X_train, X_test, y_train, y_test = train_test_split(data)"
   ]
  },
  {
   "cell_type": "markdown",
   "metadata": {},
   "source": [
    "### Linear Discriminant Analysis"
   ]
  },
  {
   "cell_type": "code",
   "execution_count": 10,
   "metadata": {},
   "outputs": [],
   "source": [
    "lda = LDA(n_components=1)\n",
    "lda.fit(X_train, y_train)"
   ]
  },
  {
   "cell_type": "code",
   "execution_count": 11,
   "metadata": {},
   "outputs": [],
   "source": [
    "X_train_lda = lda.transform(X_train)\n",
    "X_test_lda = lda.transform(X_test)"
   ]
  },
  {
   "cell_type": "markdown",
   "metadata": {},
   "source": [
    "### KNN Classifier"
   ]
  },
  {
   "cell_type": "code",
   "execution_count": 12,
   "metadata": {},
   "outputs": [],
   "source": [
    "knn = KNN(k = 5)\n",
    "knn.fit(X_train_lda, y_train)"
   ]
  },
  {
   "cell_type": "code",
   "execution_count": 13,
   "metadata": {},
   "outputs": [
    {
     "name": "stdout",
     "output_type": "stream",
     "text": [
      "    Actual Predicted\n",
      "0     male      male\n",
      "1     male      male\n",
      "2     male      male\n",
      "3     male      male\n",
      "4     male      male\n",
      "5     male      male\n",
      "6     male      male\n",
      "7     male      male\n",
      "8     male      male\n",
      "9     male      male\n",
      "10  female      male\n",
      "11  female      male\n",
      "12  female    female\n",
      "13  female    female\n",
      "14  female    female\n",
      "15  female    female\n",
      "16  female    female\n",
      "17  female    female\n",
      "18  female    female\n",
      "19  female    female\n"
     ]
    }
   ],
   "source": [
    "y_pred = knn.predict(X_test_lda)\n",
    "final_df = pd.DataFrame({'Actual': y_test, 'Predicted': y_pred})\n",
    "print(final_df)"
   ]
  },
  {
   "cell_type": "code",
   "execution_count": 14,
   "metadata": {},
   "outputs": [
    {
     "name": "stdout",
     "output_type": "stream",
     "text": [
      "Accuracy:  90.0 %\n"
     ]
    }
   ],
   "source": [
    "print(\"Accuracy: \", accuracy(y_test, y_pred) * 100, \"%\")"
   ]
  }
 ],
 "metadata": {
  "kernelspec": {
   "display_name": "base",
   "language": "python",
   "name": "python3"
  },
  "language_info": {
   "codemirror_mode": {
    "name": "ipython",
    "version": 3
   },
   "file_extension": ".py",
   "mimetype": "text/x-python",
   "name": "python",
   "nbconvert_exporter": "python",
   "pygments_lexer": "ipython3",
   "version": "3.11.4"
  }
 },
 "nbformat": 4,
 "nbformat_minor": 2
}
