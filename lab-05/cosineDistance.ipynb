{
 "cells": [
  {
   "cell_type": "code",
   "execution_count": 56,
   "metadata": {},
   "outputs": [],
   "source": [
    "import numpy as np"
   ]
  },
  {
   "cell_type": "code",
   "execution_count": 57,
   "metadata": {},
   "outputs": [
    {
     "name": "stdout",
     "output_type": "stream",
     "text": [
      "['MATLAB is a program for solving engineering and mathematical problems. The basic MATLAB objects are vectors and matrices, so you must be familiar with these before making extensive use of this program.', 'MATLAB works with essentially one kind of object, a rectangular numerical matrix. Here is some basic information on using MATLAB matrix commands.']\n"
     ]
    }
   ],
   "source": [
    "docs = []\n",
    "with open('doc1.txt', 'r') as f1:\n",
    "    docs.append(f1.read())\n",
    "with open('doc2.txt', 'r') as f2:\n",
    "    docs.append(f2.read())\n",
    "\n",
    "print(docs)"
   ]
  },
  {
   "cell_type": "markdown",
   "metadata": {},
   "source": [
    "### Vectorizing"
   ]
  },
  {
   "cell_type": "code",
   "execution_count": 58,
   "metadata": {},
   "outputs": [],
   "source": [
    "from sklearn.feature_extraction.text import CountVectorizer\n",
    "\n",
    "vectorizer = CountVectorizer()\n",
    "vectorizer.fit_transform(docs)\n",
    "\n",
    "vector = vectorizer.transform(docs).toarray()\n",
    "p, q = vector[0], vector[1]"
   ]
  },
  {
   "cell_type": "code",
   "execution_count": 63,
   "metadata": {},
   "outputs": [
    {
     "name": "stdout",
     "output_type": "stream",
     "text": [
      "[2 1 1 1 1 0 1 0 1 1 1 0 0 1 0 1 1 2 1 0 1 0 0 1 1 0 0 1 2 0 1 1 0 1 1 1 1\n",
      " 0 1 1 0 1]\n",
      "[0 0 1 0 0 1 0 1 0 0 0 1 1 1 1 0 0 2 0 2 0 1 1 0 1 1 1 0 0 1 0 0 1 0 0 0 0\n",
      " 1 0 1 1 0]\n"
     ]
    }
   ],
   "source": [
    "print(p)\n",
    "print(q)"
   ]
  },
  {
   "cell_type": "markdown",
   "metadata": {},
   "source": [
    "### Cosine Distance"
   ]
  },
  {
   "cell_type": "code",
   "execution_count": 59,
   "metadata": {},
   "outputs": [],
   "source": [
    "def norm(p):\n",
    "    return np.sqrt(np.sum(p ** 2))"
   ]
  },
  {
   "cell_type": "code",
   "execution_count": 60,
   "metadata": {},
   "outputs": [],
   "source": [
    "def dot(p, q):\n",
    "    return np.sum(p * q)"
   ]
  },
  {
   "cell_type": "code",
   "execution_count": 61,
   "metadata": {},
   "outputs": [],
   "source": [
    "def cosine_distance(p, q):\n",
    "    cosine_similarity = dot(p, q) / (norm(p) * norm(q))\n",
    "    return round(1 - cosine_similarity, 5)"
   ]
  },
  {
   "cell_type": "code",
   "execution_count": 62,
   "metadata": {},
   "outputs": [
    {
     "name": "stdout",
     "output_type": "stream",
     "text": [
      "Cosine distance between doc1 and doc2 is:  0.73696\n"
     ]
    }
   ],
   "source": [
    "print(\"Cosine distance between doc1 and doc2 is: \", cosine_distance(p, q))"
   ]
  }
 ],
 "metadata": {
  "kernelspec": {
   "display_name": "Python 3",
   "language": "python",
   "name": "python3"
  },
  "language_info": {
   "codemirror_mode": {
    "name": "ipython",
    "version": 3
   },
   "file_extension": ".py",
   "mimetype": "text/x-python",
   "name": "python",
   "nbconvert_exporter": "python",
   "pygments_lexer": "ipython3",
   "version": "3.11.4"
  },
  "orig_nbformat": 4
 },
 "nbformat": 4,
 "nbformat_minor": 2
}
