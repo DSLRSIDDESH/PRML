{
 "cells": [
  {
   "cell_type": "code",
   "execution_count": 41,
   "metadata": {},
   "outputs": [],
   "source": [
    "import numpy as np\n",
    "import math"
   ]
  },
  {
   "cell_type": "code",
   "execution_count": 42,
   "metadata": {},
   "outputs": [],
   "source": [
    "h1 = np.array([0.24, 0.2, 0.16, 0.12, 0.08, 0.04, 0.12, 0.04])\n",
    "h2 = np.array([0.22, 0.23, 0.16, 0.13, 0.11, 0.08, 0.05, 0.02])"
   ]
  },
  {
   "cell_type": "markdown",
   "metadata": {},
   "source": [
    "### KL Distance"
   ]
  },
  {
   "cell_type": "code",
   "execution_count": 43,
   "metadata": {},
   "outputs": [],
   "source": [
    "def kl_distance(p, q):\n",
    "    if len(p) != len(q):\n",
    "        print(\"Length of the vectors should match!!\")\n",
    "        return None\n",
    "    else:\n",
    "        n, p_q = len(p), np.zeros_like(p)\n",
    "        for i in range(n):\n",
    "            if p[i] != 0 and q[i] != 0:\n",
    "                p_q[i] = p[i] * math.log(p[i]/q[i], 2)\n",
    "        return round(np.sum(p_q), 5)"
   ]
  },
  {
   "cell_type": "code",
   "execution_count": 44,
   "metadata": {},
   "outputs": [
    {
     "name": "stdout",
     "output_type": "stream",
     "text": [
      "KL Distance between h1 and h2 : 0.09075\n",
      "KL Distance between h2 and h1 : 0.08116\n"
     ]
    }
   ],
   "source": [
    "print(\"KL Distance between h1 and h2 :\", kl_distance(h1, h2))\n",
    "print(\"KL Distance between h2 and h1 :\", kl_distance(h2, h1))"
   ]
  },
  {
   "cell_type": "markdown",
   "metadata": {},
   "source": [
    "### Bhattacharya Distance"
   ]
  },
  {
   "cell_type": "code",
   "execution_count": 45,
   "metadata": {},
   "outputs": [],
   "source": [
    "def bhattacharya_distance(p, q):\n",
    "    if len(p) != len(q):\n",
    "        print(\"Length of the vectors should match!!\")\n",
    "        return None\n",
    "    else:\n",
    "        n, p_q = len(p), np.zeros_like(p)\n",
    "        for i in range(n):\n",
    "            p_q[i] = math.sqrt(p[i] * q[i])\n",
    "        return round(-math.log(np.sum(p_q)), 5)"
   ]
  },
  {
   "cell_type": "code",
   "execution_count": 46,
   "metadata": {},
   "outputs": [
    {
     "name": "stdout",
     "output_type": "stream",
     "text": [
      "Bhattacharya Distance between h1 and h2 : 0.01483\n"
     ]
    }
   ],
   "source": [
    "print(\"Bhattacharya Distance between h1 and h2 :\", bhattacharya_distance(h1, h2))"
   ]
  }
 ],
 "metadata": {
  "kernelspec": {
   "display_name": "Python 3",
   "language": "python",
   "name": "python3"
  },
  "language_info": {
   "codemirror_mode": {
    "name": "ipython",
    "version": 3
   },
   "file_extension": ".py",
   "mimetype": "text/x-python",
   "name": "python",
   "nbconvert_exporter": "python",
   "pygments_lexer": "ipython3",
   "version": "3.11.4"
  },
  "orig_nbformat": 4
 },
 "nbformat": 4,
 "nbformat_minor": 2
}
