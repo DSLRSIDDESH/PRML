{
 "cells": [
  {
   "cell_type": "markdown",
   "metadata": {},
   "source": [
    "### Import Libraries"
   ]
  },
  {
   "cell_type": "code",
   "execution_count": 2,
   "metadata": {},
   "outputs": [],
   "source": [
    "import numpy as np\n",
    "import pandas as pd\n",
    "import matplotlib.pyplot as plt"
   ]
  },
  {
   "cell_type": "markdown",
   "metadata": {},
   "source": [
    "### Load Data"
   ]
  },
  {
   "cell_type": "code",
   "execution_count": 3,
   "metadata": {},
   "outputs": [],
   "source": [
    "w1 = np.array([[2,6],[3,4],[3,8],[4,6]])\n",
    "w2 = np.array([[3,0],[1,-2],[3,-4],[5,-2]])"
   ]
  },
  {
   "cell_type": "markdown",
   "metadata": {},
   "source": [
    "### Train-data"
   ]
  },
  {
   "cell_type": "code",
   "execution_count": 4,
   "metadata": {},
   "outputs": [],
   "source": [
    "train_X = pd.DataFrame(np.concatenate((w1,w2),axis=0))\n",
    "train_y = np.array([0] * 4 + [1] * 4)"
   ]
  },
  {
   "cell_type": "code",
   "execution_count": 5,
   "metadata": {},
   "outputs": [
    {
     "name": "stdout",
     "output_type": "stream",
     "text": [
      "   0  1\n",
      "0  2  6\n",
      "1  3  4\n",
      "2  3  8\n",
      "3  4  6\n",
      "4  3  0\n",
      "5  1 -2\n",
      "6  3 -4\n",
      "7  5 -2\n"
     ]
    }
   ],
   "source": [
    "print(train_X)"
   ]
  },
  {
   "cell_type": "code",
   "execution_count": 6,
   "metadata": {},
   "outputs": [
    {
     "name": "stdout",
     "output_type": "stream",
     "text": [
      "[0 0 0 0 1 1 1 1]\n"
     ]
    }
   ],
   "source": [
    "print(train_y)"
   ]
  },
  {
   "cell_type": "markdown",
   "metadata": {},
   "source": [
    "### Bayes Classifier"
   ]
  },
  {
   "cell_type": "code",
   "execution_count": 7,
   "metadata": {},
   "outputs": [],
   "source": [
    "#function to find covariance matrix\n",
    "def covariance_matrix(data):\n",
    "    mean_vector = np.mean(data, axis=0)\n",
    "    z_matrix = data - mean_vector\n",
    "    cov_matrix = np.dot(z_matrix.T, z_matrix) / (data.shape[0] - 1)\n",
    "    return cov_matrix"
   ]
  },
  {
   "cell_type": "code",
   "execution_count": 8,
   "metadata": {},
   "outputs": [],
   "source": [
    "def fit_bayes_classifier(train_X, train_y):\n",
    "    classes = np.unique(train_y)\n",
    "    cov_mats, cov_dets = {}, {}\n",
    "    inv_cov_mats = {}\n",
    "    mean_vectors = {}\n",
    "    apriori = {}\n",
    "    for c in classes:\n",
    "        apriori[c] = len(train_y[train_y == c]) / len(train_y)\n",
    "        mean_vectors[c] = np.array(train_X[train_y == c].mean())\n",
    "        cov_mats[c] = covariance_matrix(np.array(train_X[train_y == c]))\n",
    "        cov_dets[c] = np.linalg.det(cov_mats[c])\n",
    "        inv_cov_mats[c] = np.linalg.inv(cov_mats[c])\n",
    "    return cov_dets, inv_cov_mats, apriori, mean_vectors\n",
    "\n",
    "def predict(apriori, mean_vectors, cov_dets, inv_cov_mats, train_X, train_y, test_point):\n",
    "    classes = np.unique(train_y)\n",
    "    dimensions = train_X.shape[1]\n",
    "    class_probabilities = {}\n",
    "\n",
    "    for c in classes:\n",
    "        req_vector = np.array(test_point) - mean_vectors[c]\n",
    "        numerator = np.exp(-0.5 * np.dot(np.dot(req_vector.T, inv_cov_mats[c]), req_vector))\n",
    "        denominator = np.power(2 * np.pi, dimensions / 2) * np.power(cov_dets[c], 0.5)\n",
    "        class_probabilities[c] = apriori * (numerator / denominator)\n",
    "\n",
    "    return max(zip(class_probabilities.values(), class_probabilities.keys()))[1]"
   ]
  },
  {
   "cell_type": "code",
   "execution_count": 9,
   "metadata": {
    "collapsed": false
   },
   "outputs": [],
   "source": [
    "def fit_discriminant_function(train_y, cov_dets, inv_cov_mats, p_w, mean_vectors):\n",
    "    classes = np.unique(train_y)\n",
    "    A, B, C = [0]*len(classes), [0]*len(classes), [0]*len(classes)\n",
    "    for c in classes:\n",
    "        A[c] = (-1/2) * inv_cov_mats[c]\n",
    "        B[c] = inv_cov_mats[c].dot(mean_vectors[c])\n",
    "        C[c] = (-1/2) * mean_vectors[c].T.dot(inv_cov_mats[c]).dot(mean_vectors[c]) - (1/2) * np.log(cov_dets[c]) + np.log(p_w[c])\n",
    "    \n",
    "    return np.array(A), np.array(B), np.array(C)"
   ]
  },
  {
   "cell_type": "code",
   "execution_count": 10,
   "metadata": {},
   "outputs": [],
   "source": [
    "cov_dets, inv_cov_mats, apriori, mean_vectors = fit_bayes_classifier(train_X, train_y)\n",
    "apriori = {0: 0.5, 1: 0.5}"
   ]
  },
  {
   "cell_type": "code",
   "execution_count": 11,
   "metadata": {
    "collapsed": false
   },
   "outputs": [],
   "source": [
    "A, B, C = fit_discriminant_function(train_y, cov_dets, inv_cov_mats, apriori, mean_vectors)"
   ]
  },
  {
   "cell_type": "code",
   "execution_count": 12,
   "metadata": {
    "collapsed": false
   },
   "outputs": [],
   "source": [
    "g1 = lambda x: x.T.dot(A[0]).dot(x) + B[0].T.dot(x) + C[0]\n",
    "g2 = lambda x: x.T.dot(A[1]).dot(x) + B[1].T.dot(x) + C[1]\n",
    "g = lambda x: g1(x) - g2(x)"
   ]
  },
  {
   "cell_type": "markdown",
   "metadata": {},
   "source": [
    "### Plotting"
   ]
  },
  {
   "cell_type": "code",
   "execution_count": 13,
   "metadata": {},
   "outputs": [
    {
     "data": {
      "image/png": "[encoded data removed]",
      "text/plain": [
       "<Figure size 640x480 with 1 Axes>"
      ]
     },
     "metadata": {},
     "output_type": "display_data"
    }
   ],
   "source": [
    "train_X = np.array(train_X)\n",
    "x_min, x_max = train_X[:, 0].min() - 1, train_X[:, 0].max() + 1\n",
    "y_min, y_max = train_X[:, 1].min() - 1, train_X[:, 1].max() + 1\n",
    "xx, yy = np.meshgrid(np.arange(x_min, x_max, 0.1), np.arange(y_min, y_max, 0.1))\n",
    "\n",
    "z = np.zeros_like(xx)\n",
    "for i in range(xx.shape[0]):\n",
    "    for j in range(xx.shape[1]):\n",
    "        z[i, j] = g(np.array([xx[i, j], yy[i, j]]))\n",
    "plt.contour(xx, yy, z, levels = [0])\n",
    "plt.scatter(train_X[:, 0], train_X[:, 1], c = train_y, cmap = plt.cm.RdBu, edgecolor='k')\n",
    "plt.show()"
   ]
  }
 ],
 "metadata": {
  "kernelspec": {
   "display_name": "Python 3",
   "language": "python",
   "name": "python3"
  },
  "language_info": {
   "codemirror_mode": {
    "name": "ipython",
    "version": 3
   },
   "file_extension": ".py",
   "mimetype": "text/x-python",
   "name": "python",
   "nbconvert_exporter": "python",
   "pygments_lexer": "ipython3",
   "version": "3.11.4"
  },
  "orig_nbformat": 4
 },
 "nbformat": 4,
 "nbformat_minor": 2
}
